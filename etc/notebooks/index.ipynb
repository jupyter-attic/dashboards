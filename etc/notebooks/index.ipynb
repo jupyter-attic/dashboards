{
 "cells": [
  {
   "cell_type": "markdown",
   "metadata": {
    "extensions": {
     "jupyter_dashboards": {
      "version": 1,
      "views": {
       "grid_default": {
        "col": 2,
        "height": 4,
        "hidden": false,
        "row": 0,
        "width": 9
       },
       "report_default": {
        "hidden": false
       }
      }
     }
    }
   },
   "source": [
    "# Dynamic Dashboards Quick Start Guide\n",
    "\n",
    "[Dynamic Dashboards](https://github.com/jupyter/dashboards) allow us to quickly create a functional application with minimal effort using a notebook. The notebook cell outputs become the components of the dashboard and can be moved, resized, and hidden as desired. Other technologies, both server- and client-side, can be used to enhance the Dashboard experience. This notebook will give you a quick overview of how to use Dynamic Dashboards. For more detailed information, see the [wiki](https://github.com/jupyter/dashboards/wiki).\n",
    "\n",
    "## Creating a Dashboard\n",
    "\n",
    "The Dynamic Dashboard extension uses Jupyter Notebook cell output areas as the dashboard content, so any text, image, widget, etc. can be included in a dashboard. \n",
    "\n",
    "Once your notebook contains the desired dashboard components, you are ready to create the dashboard. To switch from the default notebook view to the dashboard layout view, use either the **Dashboard View** toolbar buttons or the **View > Dashboard Layout > [layout]** menu items. The dashboard layout view allows you to rearrange, resize, and hide cells. See the next section for details on available layouts.\n",
    "\n",
    "Once you have laid out your dashboard, you may preview it by using either the **Dashboard View** toolbar buttons or the **View > Dashboard Preview** menu item. This will show you what the dashboard will look like when deployed.\n",
    "\n",
    "To return to the Notebook, use either the **Dashboard View** toolbar buttons or the **View > Notebook** menu item.\n",
    "\n",
    "As a final step, you can download or deploy your dashboard. These depend on other components from the Jupyter ecosystem. See the [wiki](https://github.com/jupyter/dashboards/wiki) for details.\n",
    "\n",
    "### Dashboard Layouts\n",
    "\n",
    "Currently there are 2 types of dashboard layout: **Grid** and **Report**. The type of layout can be selected using the **Dashboard View** toolbar buttons or the **View > Dashboard Layout > [layout]** menu items.\n",
    "\n",
    "**Grid** layout allows you to specify a row, column, width, and height for each cell. Cells can be arranged anywhere in 2D space. This uses the [Gridstack](http://troolee.github.io/gridstack.js/) library to perform the layout. Each cell can be hidden from view, and hidden cells will be displayed below the grid layout. This layout is a fixed size.\n",
    "\n",
    "**Report** layout is more restricted and simply lays out the cells top-to-bottom in notebook order. The code is hidden, and cells can also be hidden. Hidden cells are collapsed and displayed inline. This layout's height is determined by cell output and can change dynamically as the user interacts with cell outputs.\n",
    "\n",
    "## Examples\n",
    "\n",
    "The Dynamic Dashboards repository contains several example notebooks that you can run and modify to learn how dashboards might suit your needs.\n",
    "\n",
    "<img style=\"float:right;height:300px;\" src=\"images/dashboard-abstraction.png\">\n",
    "\n",
    "### Basic Dashboards\n",
    "\n",
    "1. [Got Scotch?](got_scotch_demo/scotch_dashboard.ipynb) - uses IPyWidgets 5.1+ to show similarities between scotch varieties\n",
    "\n",
    "### Widgets\n",
    "\n",
    "The dashboard extensions works well with the [Declarative Widgets](https://github.com/jupyter-incubator/declarativewidgets) project and other [Polymer](https://www.polymer-project.org/1.0/) elements:\n",
    "\n",
    "1. [NYC Taxi Trips & Fares](taxi_demo/taxi_dashboard.ipynb) - visualizes a sampling of New York City taxi trips and fares\n",
    "2. [Community Sentiment](community_sentiment_demo/community_sentiment_demo.ipynb) - describes the sentiment of an open source project on GitHub\n",
    "3. [Got Scotch? (with declarative widgets)](got_scotch_demo/scotch_dashboard_declarative.ipynb) - is similar to Got Scotch with ipywidgets, but uses Declarative Widgets instead.\n",
    "\n",
    "Of course, it also works with other widget packages like ipywidgets (see Scotch demo above), Bokeh, plot.ly, etc.\n",
    "\n",
    "1. [Bokeh demo](bokeh_demo/bokeh_demo.ipynb) - shows some Bokeh widgets in a dashboard layout \n",
    "\n",
    "### Boilerplates\n",
    "\n",
    "Boilerplates are notebooks that allow you to quickly adapt a pre-built dashboard to your own needs. These boilerplates require minimal code changes to work with your own data and use cases.\n",
    "\n",
    "1. [Sentiment Boilerplate](sentiment_boilerplate_demo/sentiment_boilerplate_demo.ipynb) - displays and aggregates metrics about sentiment in a dashboard\n",
    "\n",
    "### Apache Spark\n",
    "\n",
    "Using technologies like Apache Spark, we can incorporate Big Data analysis into our Dashboards. In particular, we can make use of Spark Streaming to dynamically update dashboard content as new data is received.\n",
    "\n",
    "1. [Meetup Streaming](stream_demo/meetup-streaming.ipynb) - example of Spark Streaming in a notebook/dashboard\n",
    "2. [Meetup Outreach](meetup_outreach_demo/meetup-outreach.ipynb) - real-world application of a streaming dashboard\n",
    "\n",
    "### Development\n",
    "\n",
    "In addition to the demo notebooks above, we have provided these notebooks to cover aspects of the development process.\n",
    "\n",
    "1. [Resizable Widgets](resizable_widgets_tutorial/resizable_widgets.ipynb) - demonstrates how to implement a Polymer element that sizes itself to fit in a dashboard cell\n",
    "2. [Tests](test) - these cover various dashboard features and are useful for developers of the dashboard extension itself"
   ]
  }
 ],
 "metadata": {
  "extensions": {
   "jupyter_dashboards": {
    "activeView": "grid_default",
    "version": 1,
    "views": {
     "grid_default": {
      "cellMargin": 10,
      "defaultCellHeight": 20,
      "maxColumns": 12,
      "name": "grid",
      "type": "grid"
     },
     "report_default": {
      "name": "report",
      "type": "report"
     }
    }
   }
  },
  "kernelspec": {
   "display_name": "Python 3",
   "language": "python",
   "name": "python3"
  },
  "language_info": {
   "codemirror_mode": {
    "name": "ipython",
    "version": 3
   },
   "file_extension": ".py",
   "mimetype": "text/x-python",
   "name": "python",
   "nbconvert_exporter": "python",
   "pygments_lexer": "ipython3",
   "version": "3.5.1"
  },
  "widgets": {
   "state": {},
   "version": "1.1.2"
  }
 },
 "nbformat": 4,
 "nbformat_minor": 0
}
