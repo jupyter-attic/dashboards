{
 "cells": [
  {
   "cell_type": "markdown",
   "metadata": {
    "urth": {
     "dashboard": {
      "layout": {
       "col": 0,
       "height": 4,
       "row": 0,
       "width": 4
      }
     }
    }
   },
   "source": [
    "This notebook demonstrates the two syntaxes for associating local resources with a notebook. Filespecs are indicated line by line according to the same rules listed at https://git-scm.com/docs/gitignore, although used here for inclusion, but restricted to relative paths. With the Dynamic Dashboards extension installed, a new download option will be available in the menu, grouping the notebook and its associated files, and those files will accompany the notebook when it is deployed as a dashboard."
   ]
  },
  {
   "cell_type": "markdown",
   "metadata": {
    "urth": {
     "dashboard": {
      "layout": {
       "col": 0,
       "height": 4,
       "row": 4,
       "width": 4
      }
     }
    }
   },
   "source": [
    "<!--associate:\n",
    "# The first syntax uses a Markdown/HTML comment at the very beginning of a cell, itself starting with 'associate:'. Since it is not meant to appear in the output when run, the assumption is that it can require a cell to itself. This example just refers to a directory, relative to the notebook.\n",
    "data/\n",
    "-->"
   ]
  },
  {
   "cell_type": "code",
   "execution_count": null,
   "metadata": {
    "collapsed": false,
    "urth": {
     "dashboard": {
      "layout": {
       "col": 5,
       "height": 4,
       "row": 0,
       "width": 4
      }
     }
    }
   },
   "outputs": [],
   "source": [
    "import pandas as pd\n",
    "cars = pd.read_csv('data/cars.csv')\n",
    "cars"
   ]
  },
  {
   "cell_type": "markdown",
   "metadata": {
    "urth": {
     "dashboard": {
      "layout": {
       "col": 5,
       "height": 4,
       "row": 4,
       "width": 4
      }
     }
    }
   },
   "source": [
    "The second uses a triple-backtick, which will render as a visible code block under a \"pre\" element. This notebook makes use of these resources:\n",
    "```\n",
    "images/MjeLFmy6Lx8di.gif\n",
    "```\n",
    "\n",
    "This syntax doesn't require a cell for itself. The relative path restriction mentioned above means that any path containing '../' is outright rejected--it would require changing what would deploy into the root of a dashboard app or be the top-level in a downloaded zip.\n",
    "\n",
    "<img src='images/MjeLFmy6Lx8di.gif'/>\n",
    "<br/>"
   ]
  }
 ],
 "metadata": {
  "kernelspec": {
   "display_name": "Python 3",
   "language": "python",
   "name": "python3"
  },
  "language_info": {
   "codemirror_mode": {
    "name": "ipython",
    "version": 3
   },
   "file_extension": ".py",
   "mimetype": "text/x-python",
   "name": "python",
   "nbconvert_exporter": "python",
   "pygments_lexer": "ipython3",
   "version": "3.4.3"
  },
  "urth": {
   "dashboard": {
    "cellMargin": 10,
    "defaultCellHeight": 20,
    "maxColumns": 12
   }
  }
 },
 "nbformat": 4,
 "nbformat_minor": 0
}
