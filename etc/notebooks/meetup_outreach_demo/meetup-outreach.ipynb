{
 "cells": [
  {
   "cell_type": "markdown",
   "metadata": {
    "urth": {
     "dashboard": {
      "layout": {
       "col": 0,
       "height": 2,
       "row": 0,
       "width": 6
      }
     }
    }
   },
   "source": [
    "# Meetup Outreach"
   ]
  },
  {
   "cell_type": "markdown",
   "metadata": {
    "urth": {
     "dashboard": {
      "hidden": true
     }
    }
   },
   "source": [
    "This notebook shows how you can use Spark streaming to acquire and process data, then display it in an actionable dashboard using Declarative Widgets.\n",
    "\n",
    "You have a product or service that you want to promote. One way of doing this is through local Meetups. There are already some affiliated Meetups, but you want to increase attendance. By analyzing the RSVP stream, we can find members who are going to similarly themed Meetups and contact them, to let them know about one of our affiliated Meetups. The notebook also keeps track of who you have contacted and visualizes such “conversions” in the dashboard."
   ]
  },
  {
   "cell_type": "markdown",
   "metadata": {
    "urth": {
     "dashboard": {
      "hidden": true
     }
    }
   },
   "source": [
    "On your first visit to this notebook, we recommend that you execute one cell at a time as you read along. Later, if you  just want to see the demo, select *Cell > Run All* from the menu bar. Once you've run all of the cells, select *View > View Dashboard* and then click on the **Stream** toggle to start the data stream.\n",
    "\n",
    "**Table of Contents**\n",
    "\n",
    "1. [Configuration](#Configuration)\n",
    "2. [Upcoming Meetups](#Upcoming-Meetups)\n",
    "3. [RSVPs Stream](#RSVPs-Stream)\n",
    "    1. [Conversions](#Conversions)\n",
    "4. [Widgets](#Widgets)\n",
    "    1. [Meetups List](#Meetups-List)\n",
    "    2. [Total RSVPs Plot](#Total-RSVPs-Plot)\n",
    "    3. [Candidates List](#Candidates-List)\n",
    "5. [Setup Streaming](#Setup-streaming)\n",
    "6. [Demo Mode](#Demo-Mode)"
   ]
  },
  {
   "cell_type": "code",
   "execution_count": null,
   "metadata": {
    "collapsed": false,
    "urth": {
     "dashboard": {
      "layout": {
       "col": 0,
       "height": 3,
       "row": 2,
       "width": 1
      }
     }
    }
   },
   "outputs": [],
   "source": [
    "%matplotlib inline"
   ]
  },
  {
   "cell_type": "code",
   "execution_count": null,
   "metadata": {
    "collapsed": false,
    "scrolled": false,
    "urth": {
     "dashboard": {
      "hidden": true
     }
    }
   },
   "outputs": [],
   "source": [
    "import shutil\n",
    "import tempfile\n",
    "import os\n",
    "import time\n",
    "import json\n",
    "import sys\n",
    "from tornado.websocket import websocket_connect\n",
    "from pyspark import SparkContext\n",
    "from pyspark.streaming import StreamingContext\n",
    "from datetime import datetime, timedelta\n",
    "import matplotlib.pyplot as plt\n",
    "from functools import reduce, partial\n",
    "\n",
    "from urth.widgets.widget_channels import channel"
   ]
  },
  {
   "cell_type": "markdown",
   "metadata": {
    "urth": {
     "dashboard": {
      "hidden": true
     }
    }
   },
   "source": [
    "##Configuration\n",
    "\n",
    "The Meetup API requires authentication. You can get your API key [here](https://secure.meetup.com/meetup_api/key/). Enter the key below:"
   ]
  },
  {
   "cell_type": "code",
   "execution_count": null,
   "metadata": {
    "collapsed": true,
    "scrolled": false,
    "urth": {
     "dashboard": {
      "hidden": true
     }
    }
   },
   "outputs": [],
   "source": [
    "API_KEY = 'XXXXXXXXXXXXXXXXXXXXXXXXXXXXXXX'"
   ]
  },
  {
   "cell_type": "markdown",
   "metadata": {
    "urth": {
     "dashboard": {
      "hidden": true
     }
    }
   },
   "source": [
    "The topic on which to search for our upcoming meetups."
   ]
  },
  {
   "cell_type": "code",
   "execution_count": null,
   "metadata": {
    "collapsed": true,
    "scrolled": true,
    "urth": {
     "dashboard": {
      "hidden": true
     }
    }
   },
   "outputs": [],
   "source": [
    "PROD_TOPIC = 'bluemix'"
   ]
  },
  {
   "cell_type": "markdown",
   "metadata": {
    "urth": {
     "dashboard": {
      "hidden": true
     }
    }
   },
   "source": [
    "How often (in seconds) to update the upcoming meetups list."
   ]
  },
  {
   "cell_type": "code",
   "execution_count": null,
   "metadata": {
    "collapsed": true,
    "scrolled": false,
    "urth": {
     "dashboard": {
      "hidden": true
     }
    }
   },
   "outputs": [],
   "source": [
    "PROD_TIMER = 3600"
   ]
  },
  {
   "cell_type": "markdown",
   "metadata": {
    "urth": {
     "dashboard": {
      "hidden": true
     }
    }
   },
   "source": [
    "To determine potential matches, define a relevant topic list."
   ]
  },
  {
   "cell_type": "code",
   "execution_count": null,
   "metadata": {
    "collapsed": true,
    "scrolled": false,
    "urth": {
     "dashboard": {
      "hidden": true
     }
    }
   },
   "outputs": [],
   "source": [
    "RELEVANT_TOPICS = ['paas', 'cloud', 'cloud-computing', 'cloud-foundry', 'devops', 'internet-of-things', 'data-analytics', 'saas-software-as-a-service', 'iaas-infrastructure-as-a-service', 'openstack', 'docker', 'nodejs']"
   ]
  },
  {
   "cell_type": "markdown",
   "metadata": {
    "urth": {
     "dashboard": {
      "hidden": true
     }
    }
   },
   "source": [
    "Threshold (in km). Candidates farther away than this distance from one of the upcoming meetups are discarded:"
   ]
  },
  {
   "cell_type": "code",
   "execution_count": null,
   "metadata": {
    "collapsed": true,
    "scrolled": false,
    "urth": {
     "dashboard": {
      "hidden": true
     }
    }
   },
   "outputs": [],
   "source": [
    "DIST_THRESHOLD = 50"
   ]
  },
  {
   "cell_type": "markdown",
   "metadata": {
    "urth": {
     "dashboard": {
      "hidden": true
     }
    }
   },
   "source": [
    "Span of time over which to calculate change in meetups RSVP counts."
   ]
  },
  {
   "cell_type": "code",
   "execution_count": null,
   "metadata": {
    "collapsed": true,
    "scrolled": false,
    "urth": {
     "dashboard": {
      "hidden": true
     }
    }
   },
   "outputs": [],
   "source": [
    "MU_CHANGE_CUTOFF = timedelta(weeks=1)\n",
    "MU_CHANGE_LABEL = 'Change in last week'"
   ]
  },
  {
   "cell_type": "markdown",
   "metadata": {
    "urth": {
     "dashboard": {
      "hidden": true
     }
    }
   },
   "source": [
    "For **demo** purposes, define this to `True`. The notebook will randomly select to \"contact\" a candidate from the list."
   ]
  },
  {
   "cell_type": "code",
   "execution_count": null,
   "metadata": {
    "collapsed": true,
    "urth": {
     "dashboard": {
      "hidden": true
     }
    }
   },
   "outputs": [],
   "source": [
    "DEMO = False"
   ]
  },
  {
   "cell_type": "markdown",
   "metadata": {
    "urth": {
     "dashboard": {
      "hidden": true
     }
    }
   },
   "source": [
    "##Upcoming Meetups"
   ]
  },
  {
   "cell_type": "code",
   "execution_count": null,
   "metadata": {
    "collapsed": false,
    "scrolled": false,
    "urth": {
     "dashboard": {
      "hidden": true
     }
    }
   },
   "outputs": [],
   "source": [
    "import requests\n",
    "from html.parser import HTMLParser\n",
    "import tornado.ioloop\n",
    "\n",
    "# list of Meetup Event records; result of search on PROD_TOPIC keywords\n",
    "upcoming_meetups = []\n",
    "\n",
    "# dict indexed by Meetup Event ID; each entry is a list of\n",
    "# [datetime, total count of \"yes\" RSVPs, total count of conversions]\n",
    "rsvp_count_history = {}\n",
    "\n",
    "# list of tuples containing the \"yes\" RSVP counts for all of the\n",
    "# upcoming meetups, as well as the total conversions\n",
    "total_rsvp_count = []\n",
    "\n",
    "mu_events_url = \"https://api.meetup.com/2/open_events\"\n",
    "params = {'topic':PROD_TOPIC, 'key':API_KEY}\n",
    "loop = tornado.ioloop.IOLoop.current()\n",
    "\n",
    "class MLStripper(HTMLParser):\n",
    "    def __init__(self):\n",
    "        super().__init__()\n",
    "        self.reset()\n",
    "        self.fed = []\n",
    "    def handle_data(self, d):\n",
    "        self.fed.append(d)\n",
    "    def get_data(self):\n",
    "        return ''.join(self.fed)\n",
    "\n",
    "def strip_tags(html):\n",
    "    s = MLStripper()\n",
    "    s.feed(html)\n",
    "    return s.get_data()\n",
    "\n",
    "def get_venue(x):\n",
    "    if 'venue' not in x:\n",
    "        return '-'\n",
    "\n",
    "    v = x['venue']\n",
    "    city = v['city']\n",
    "    if v['country'] == 'us':\n",
    "        return '{}, {}'.format(city, v['state'])\n",
    "    else:\n",
    "        return '{} ({})'.format(city, v['country'].upper())\n",
    "\n",
    "def map_mus(x):\n",
    "    x['description'] = strip_tags(x['description']) if 'description' in x else ''\n",
    "    x['group']['url'] = \"http://meetup.com/{}\".format(x['group']['urlname'])\n",
    "    x['venue_loc'] = get_venue(x)\n",
    "    return x\n",
    "\n",
    "def update_meetups_values():\n",
    "    global upcoming_meetups\n",
    "    global rsvp_count_history\n",
    "    global total_rsvp_count\n",
    "\n",
    "    now = datetime.now()\n",
    "    cutoff = now - MU_CHANGE_CUTOFF\n",
    "    \n",
    "    for mu in upcoming_meetups:\n",
    "        id = mu['id']\n",
    "        prev_conv_count = 0 # running total for conversions\n",
    "        if id not in rsvp_count_history:\n",
    "            rsvp_count_history[id] = []\n",
    "        else:\n",
    "            # carry previous conversions count forward\n",
    "            prev_conv_count = rsvp_count_history[id][-1][2]\n",
    "\n",
    "        # store the RSVP count for each event at this time\n",
    "        rsvp_count_history[id].append([now, mu['yes_rsvp_count'], prev_conv_count])\n",
    "        # cleanup old rsvp history values\n",
    "        rsvp_count_history[id] = list(filter(lambda x: x[0] > cutoff, rsvp_count_history[id]))\n",
    "\n",
    "        # save change in rsvp count over time span\n",
    "        mu['change_over_time'] = rsvp_count_history[id][-1][1] - rsvp_count_history[id][0][1]\n",
    "\n",
    "    # update the total number of RSVPs for all of upcoming meetups\n",
    "    total_rsvp_count.append((now,\n",
    "            reduce(lambda x, y: x + y['yes_rsvp_count'], upcoming_meetups, 0),\n",
    "            reduce(lambda x, y: x + y[-1][2], rsvp_count_history.values(), 0)\n",
    "    ))\n",
    "    # cleanup old values\n",
    "    list(filter(lambda x: x[0] > cutoff, total_rsvp_count))\n",
    "\n",
    "def refresh_meetups_list():\n",
    "    '''\n",
    "    Update the data for the upcoming meetup events. Once invoked, will run every\n",
    "    PROD_TIMER seconds.\n",
    "    \n",
    "    Publishes data on the 'meetups' and 'plots' channels.\n",
    "    '''\n",
    "    global upcoming_meetups\n",
    "\n",
    "    # request updated meetups data\n",
    "    r = requests.get(mu_events_url, params=params)\n",
    "    upcoming_meetups = list(map(map_mus, r.json()['results']))\n",
    "    # update values, comparing old vs new data\n",
    "    update_meetups_values()\n",
    "    # reschedule\n",
    "    loop.call_later(PROD_TIMER, refresh_meetups_list)\n",
    "\n",
    "    # broadcast the updated list\n",
    "    channel('meetups').set('list', upcoming_meetups)\n",
    "    fig = plot_total_rsvps(total_rsvp_count)\n",
    "    channel('plots').set('total_rsvp_plot', fig)"
   ]
  },
  {
   "cell_type": "markdown",
   "metadata": {
    "urth": {
     "dashboard": {
      "hidden": true
     }
    }
   },
   "source": [
    "\n",
    "##RSVPs Stream"
   ]
  },
  {
   "cell_type": "code",
   "execution_count": null,
   "metadata": {
    "collapsed": true,
    "scrolled": false,
    "urth": {
     "dashboard": {
      "hidden": true
     }
    }
   },
   "outputs": [],
   "source": [
    "conversions = [];\n",
    "\n",
    "def process_rsvps(ssc, queue):\n",
    "    '''Initiates processing of the RSVPs stream.'''\n",
    "    msgs = ssc.textFileStream(queue)\n",
    "    \n",
    "    # Each event is a JSON blob. Parse it. Filter it.\n",
    "    rsvps = msgs.map(lambda json_str: json.loads(json_str))\n",
    "\n",
    "    process_candidates(rsvps)\n",
    "    process_conversions(rsvps)"
   ]
  },
  {
   "cell_type": "code",
   "execution_count": null,
   "metadata": {
    "collapsed": true,
    "urth": {
     "dashboard": {
      "hidden": true
     }
    }
   },
   "outputs": [],
   "source": [
    "def process_candidates(rsvps):\n",
    "    '''\n",
    "    Generate a list of candidates from the incoming stream, filtering on\n",
    "    relevant topics and distance.\n",
    "    '''\n",
    "    filtered_rsvps = filter_rsvps(rsvps)\n",
    "    candidate_rsvps = compute_closeness(filtered_rsvps)\n",
    "    member_data = get_members(candidate_rsvps)\n",
    "    gen_candidate_list(member_data)"
   ]
  },
  {
   "cell_type": "code",
   "execution_count": null,
   "metadata": {
    "collapsed": true,
    "scrolled": false,
    "urth": {
     "dashboard": {
      "hidden": true
     }
    }
   },
   "outputs": [],
   "source": [
    "def filter_rsvps(rsvps):\n",
    "    '''\n",
    "    Filter out RSVPs that don't have our relevant topics,\n",
    "    contain PROD_TOPIC or are not \"yes\" responses.\n",
    "    '''\n",
    "    return rsvps.filter(topic_filter)\n",
    "\n",
    "def topic_filter(rsvp):\n",
    "    return (rsvp['response'] == 'yes' and\n",
    "            any(topic['urlkey'] in RELEVANT_TOPICS and topic['urlkey'] != PROD_TOPIC\n",
    "                for topic in rsvp['group']['group_topics']))"
   ]
  },
  {
   "cell_type": "code",
   "execution_count": null,
   "metadata": {
    "collapsed": true,
    "scrolled": false,
    "urth": {
     "dashboard": {
      "hidden": true
     }
    }
   },
   "outputs": [],
   "source": [
    "# from http://www.johndcook.com/blog/python_longitude_latitude/\n",
    "import math\n",
    "\n",
    "def distance_on_unit_sphere(lat1, long1, lat2, long2):\n",
    "    '''Returns distance (in km) between two points on globe'''\n",
    " \n",
    "    # Convert latitude and longitude to \n",
    "    # spherical coordinates in radians.\n",
    "    degrees_to_radians = math.pi/180.0\n",
    "         \n",
    "    # phi = 90 - latitude\n",
    "    phi1 = (90.0 - lat1)*degrees_to_radians\n",
    "    phi2 = (90.0 - lat2)*degrees_to_radians\n",
    "         \n",
    "    # theta = longitude\n",
    "    theta1 = long1*degrees_to_radians\n",
    "    theta2 = long2*degrees_to_radians\n",
    "         \n",
    "    # Compute spherical distance from spherical coordinates.\n",
    "         \n",
    "    # For two locations in spherical coordinates \n",
    "    # (1, theta, phi) and (1, theta', phi')\n",
    "    # cosine( arc length ) = \n",
    "    #    sin phi sin phi' cos(theta-theta') + cos phi cos phi'\n",
    "    # distance = rho * arc length\n",
    "     \n",
    "    cos = (math.sin(phi1)*math.sin(phi2)*math.cos(theta1 - theta2) + \n",
    "           math.cos(phi1)*math.cos(phi2))\n",
    "    arc = math.acos( cos )\n",
    " \n",
    "    # Remember to multiply arc by the radius of the earth \n",
    "    # in your favorite set of units to get length.\n",
    "    #return arc\n",
    "    return arc * 6371  # radius earth = 6,371 km"
   ]
  },
  {
   "cell_type": "code",
   "execution_count": null,
   "metadata": {
    "collapsed": false,
    "scrolled": false,
    "urth": {
     "dashboard": {
      "hidden": true
     }
    }
   },
   "outputs": [],
   "source": [
    "def compute_closeness(rsvps):\n",
    "    '''\n",
    "    Compute how close the candidate is to our list of upcoming events. If they\n",
    "    are farther away than DIST_THRESHOLD, filter them out.\n",
    "    '''\n",
    "    return (rsvps\n",
    "            .map(add_closest_mu)\n",
    "            .filter(lambda x: x['cmu_dist'] < DIST_THRESHOLD))\n",
    "\n",
    "def add_closest_mu(rsvp):\n",
    "    # save closest upcoming meetup\n",
    "    cmu = None\n",
    "    cmu_dist = sys.maxsize\n",
    "    # loop through our upcoming events, looking for closest\n",
    "    for mu in upcoming_meetups:\n",
    "        m = mu['group']\n",
    "        r = rsvp['group']\n",
    "        dist = distance_on_unit_sphere(m['group_lat'], m['group_lon'], r['group_lat'], r['group_lon'])\n",
    "        if dist < cmu_dist:\n",
    "            cmu = mu\n",
    "            cmu_dist = dist\n",
    "    # store this data in the RSVP record\n",
    "    rsvp['cmu'] = cmu\n",
    "    rsvp['cmu_dist'] = cmu_dist\n",
    "    return rsvp"
   ]
  },
  {
   "cell_type": "code",
   "execution_count": null,
   "metadata": {
    "collapsed": true,
    "scrolled": false,
    "urth": {
     "dashboard": {
      "hidden": true
     }
    }
   },
   "outputs": [],
   "source": [
    "def get_members(rsvps):\n",
    "    '''Create a member record from the RSVP record.'''\n",
    "    return rsvps.map(map_rsvp_to_member)\n",
    "\n",
    "def map_rsvp_to_member(rsvp):\n",
    "    member = ({\n",
    "        'id': rsvp['member']['member_id'],\n",
    "        'member': rsvp['member'],\n",
    "        'cmu': ({\n",
    "            'id': rsvp['cmu']['id'],\n",
    "            'name': rsvp['cmu']['name'],\n",
    "            'event_url': rsvp['cmu']['event_url']\n",
    "        }),\n",
    "        'cmu_dist': rsvp['cmu_dist']\n",
    "    })\n",
    "    # use a fallback photo for those members without one\n",
    "    if 'photo' not in member['member'] or member['member']['photo'] is None:\n",
    "        member['member']['photo'] = 'http://photos4.meetupstatic.com/img/noPhoto_50.png'\n",
    "    return member"
   ]
  },
  {
   "cell_type": "code",
   "execution_count": null,
   "metadata": {
    "collapsed": false,
    "scrolled": false,
    "urth": {
     "dashboard": {
      "hidden": true
     }
    }
   },
   "outputs": [],
   "source": [
    "def gen_candidate_list(rsvps):\n",
    "    '''Publish the candidates list (member records), which notifies the UI.'''\n",
    "    rsvps.foreachRDD(update_cand_list)\n",
    "\n",
    "def update_cand_list(rsvps_rdd):\n",
    "    channel('candidates').set('cand_list', rsvps_rdd.collect())"
   ]
  },
  {
   "cell_type": "markdown",
   "metadata": {
    "urth": {
     "dashboard": {
      "hidden": true
     }
    }
   },
   "source": [
    "### Conversions"
   ]
  },
  {
   "cell_type": "markdown",
   "metadata": {
    "urth": {
     "dashboard": {
      "hidden": true
     }
    }
   },
   "source": [
    "We keep track of candidates that we have contacted. If we later see that such a candidate has made an RSVP for one of our upcoming events, we count this as a \"conversion\"."
   ]
  },
  {
   "cell_type": "code",
   "execution_count": null,
   "metadata": {
    "collapsed": true,
    "urth": {
     "dashboard": {
      "hidden": true
     }
    }
   },
   "outputs": [],
   "source": [
    "def process_conversions(rsvps):\n",
    "    '''Check the RSVP stream for \"converted\" members, updating our running total.'''\n",
    "    conversion_stream = rsvps.filter(lambda x: x['response'] == 'yes' and \n",
    "            any(topic['urlkey'] == PROD_TOPIC for topic in x['group']['group_topics']) and\n",
    "            x['member']['member_id'] in conversions)\n",
    "    conversion_stream.foreachRDD(rdd_update_conversions_count)\n",
    "\n",
    "def rdd_update_conversions_count(rdd):\n",
    "    for rsvp in rdd.collect():\n",
    "        muid = rsvp['event']['event_id']\n",
    "        if muid in rsvp_count_history:\n",
    "            # increment conversions counter in *latest* entry\n",
    "            rsvp_count_history[muid][-1][2] += 1\n",
    "        # TODO what do we do if `rsvp_count_history` doesn't have `muid`?"
   ]
  },
  {
   "cell_type": "code",
   "execution_count": null,
   "metadata": {
    "collapsed": true,
    "urth": {
     "dashboard": {
      "hidden": true
     }
    }
   },
   "outputs": [],
   "source": [
    "def candidate_contacted(id):\n",
    "    '''\n",
    "    Callback which can be used by the UI to update the list of candidates\n",
    "    we have contacted.\n",
    "    Works in conjunction with the <template> which follows.\n",
    "    '''\n",
    "    conversions.append(id)"
   ]
  },
  {
   "cell_type": "code",
   "execution_count": null,
   "metadata": {
    "collapsed": false,
    "urth": {
     "dashboard": {
      "hidden": true
     }
    }
   },
   "outputs": [],
   "source": [
    "%%html\n",
    "<template is=\"urth-core-bind\">\n",
    "    <urth-core-function id=\"candidateContacted\" ref=\"candidate_contacted\" arg-id=\"{{id}}\"></urth-core-function>\n",
    "</template"
   ]
  },
  {
   "cell_type": "markdown",
   "metadata": {
    "urth": {
     "dashboard": {
      "hidden": true
     }
    }
   },
   "source": [
    "## Widgets"
   ]
  },
  {
   "cell_type": "code",
   "execution_count": null,
   "metadata": {
    "collapsed": false,
    "scrolled": false,
    "urth": {
     "dashboard": {
      "hidden": true
     }
    }
   },
   "outputs": [],
   "source": [
    "%%html\n",
    "<link rel=\"import\" href=\"urth_components/iron-list/iron-list.html\"\n",
    "    is=\"urth-core-import\" package=\"PolymerElements/iron-list\">\n",
    "<link rel=\"import\" href=\"urth_components/paper-toggle-button/paper-toggle-button.html\"\n",
    "    is=\"urth-core-import\" package=\"PolymerElements/paper-toggle-button#v1.0.10\">\n",
    "<link rel=\"import\" href=\"urth_components/paper-material/paper-material.html\"\n",
    "    is=\"urth-core-import\" package=\"PolymerElements/paper-material\">"
   ]
  },
  {
   "cell_type": "code",
   "execution_count": null,
   "metadata": {
    "collapsed": true,
    "scrolled": false,
    "urth": {
     "dashboard": {
      "hidden": true
     }
    }
   },
   "outputs": [],
   "source": [
    "# There is a timing issue with Urth Polymer imports. This works around that issue\n",
    "# so that the following Polymer element will load correctly.\n",
    "import time\n",
    "time.sleep(4)"
   ]
  },
  {
   "cell_type": "markdown",
   "metadata": {
    "urth": {
     "dashboard": {
      "hidden": true
     }
    }
   },
   "source": [
    "### Meetups List"
   ]
  },
  {
   "cell_type": "code",
   "execution_count": null,
   "metadata": {
    "collapsed": false,
    "scrolled": false,
    "urth": {
     "dashboard": {
      "layout": {
       "col": 0,
       "height": 18,
       "row": 5,
       "width": 6
      }
     }
    }
   },
   "outputs": [],
   "source": [
    "%%html\n",
    "<style is=\"custom-style\">\n",
    "    .meetups-list iron-list {\n",
    "        height: 400px;\n",
    "    }\n",
    "\n",
    "    .meetups-list .header .row,\n",
    "    .meetups-list .meetup-row {\n",
    "        display: flex;\n",
    "        justify-content: space-between;\n",
    "        padding: 0.3em 1em;\n",
    "    }\n",
    "    .meetups-list .header .row {\n",
    "        align-items: flex-end;\n",
    "    }\n",
    "    .meetups-list .event {\n",
    "        flex: 1 1 45%;\n",
    "    }\n",
    "    .meetups-list .date {\n",
    "        flex: 1 1 20%;\n",
    "    }\n",
    "    .meetups-list .city {\n",
    "        flex: 1 1 15%;\n",
    "    }\n",
    "    .meetups-list .rsvp-count {\n",
    "        flex: 1 1 10%;\n",
    "    }\n",
    "    .meetups-list .change {\n",
    "        flex: 1 1 10%;\n",
    "    }\n",
    "\n",
    "    .meetups-list .header {\n",
    "        background-color: #305b81;\n",
    "        color: white;\n",
    "        height: 95px;\n",
    "        padding: 10px;\n",
    "    }\n",
    "    .meetups-list .header h2 {\n",
    "        position: absolute;\n",
    "        margin-top: 0.83em;\n",
    "        font-size: 1.5em;\n",
    "    }\n",
    "    .meetups-list .header .row {\n",
    "        height: 75px;\n",
    "    }\n",
    "    .meetups-list .header .change {\n",
    "        text-align: center;\n",
    "    }\n",
    "    \n",
    "    .meetups-list .meetup-row-wrapper {\n",
    "        padding: 0.3em 0.2em 0 0.2em;\n",
    "    }\n",
    "\n",
    "    .meetups-list .meetup-row .event a {\n",
    "        display: block;\n",
    "    }\n",
    "    .meetups-list .meetup-row .event .group-name {\n",
    "        font-size: smaller;\n",
    "        margin-left: 1em;\n",
    "    }\n",
    "    .meetups-list .meetup-row .change.positive {\n",
    "        color: green;\n",
    "    }\n",
    "    .meetups-list .meetup-row .change.positive .arrow:before {\n",
    "        content: \"\\f176\";\n",
    "    }\n",
    "    .meetups-list .meetup-row .change.negative {\n",
    "        color: red;\n",
    "    }\n",
    "    .meetups-list .meetup-row .change.negative .arrow:before {\n",
    "        content: \"\\f175\";\n",
    "    }\n",
    "</style>\n",
    "\n",
    "<template is=\"urth-core-bind\" channel=\"meetups\" id=\"meetups-list-tmpl\">\n",
    "    <script>\n",
    "        (function() {\n",
    "            var dateStringOptions = {weekday:'short', year:'numeric', month: 'short', day:'numeric'};\n",
    "            var locale = navigator.language || navigator.browserLanguage || navigator.systemLanguage || navigator.userLanguage;\n",
    "\n",
    "            var scope = document.getElementById('meetups-list-tmpl');\n",
    "            scope.getISOString = function(time) {\n",
    "                return (new Date(time)).toISOString();\n",
    "            };\n",
    "            scope.getLocaleDateString = function(time) {\n",
    "                return (new Date(time)).toLocaleDateString(locale, dateStringOptions);\n",
    "            };\n",
    "            scope.getChangeOverTime = function(change) {\n",
    "                if (change === 0) {\n",
    "                    return '-';\n",
    "                }\n",
    "                return Math.abs(change);\n",
    "            };\n",
    "            scope.getChangeOverTimeClass = function(change) {\n",
    "                var cls = 'change';\n",
    "                if (change > 0) {\n",
    "                    cls += ' positive'\n",
    "                } else if (change < 0) {\n",
    "                    cls += ' negative'\n",
    "                }\n",
    "                // zero is also a valid value, but has no class\n",
    "                return cls;\n",
    "            };\n",
    "        })();\n",
    "    </script>\n",
    "\n",
    "    <div class=\"meetups-list\">\n",
    "        <paper-material class=\"header\">\n",
    "            <h2>Upcoming Meetups</h2>\n",
    "            <div class=\"row\">\n",
    "                <span class=\"event\">Meetup Event</span>\n",
    "                <span class=\"date\">Date</span>\n",
    "                <span class=\"city\">City</span>\n",
    "                <span class=\"rsvp-count\">RSVPs</span>\n",
    "                <span class=\"change\">[[change_label]]</span>\n",
    "            </div>\n",
    "        </paper-material>\n",
    "        <iron-list items=\"[[list]]\">\n",
    "            <template>\n",
    "                <div class=\"meetup-row-wrapper\">\n",
    "                    <paper-material class=\"meetup-row\">\n",
    "                        <span class=\"event\">\n",
    "                            <a href=\"[[item.event_url]]\" target=\"_blank\">[[item.name]]</a>\n",
    "                            <a class=\"group-name\" href=\"[[item.group.url]]\" target=\"_blank\">[[item.group.name]]</a>\n",
    "                        </span>\n",
    "                        <time class=\"date\" datetime=\"[[getISOString(item.time)]]\">[[getLocaleDateString(item.time)]]</time>\n",
    "                        <span class=\"city\">[[item.venue_loc]]</span>\n",
    "                        <span class=\"rsvp-count\">[[item.yes_rsvp_count]]</span>\n",
    "                        <span class$=\"[[getChangeOverTimeClass(item.change_over_time)]]\">\n",
    "                            <span class=\"fa arrow\"></span>\n",
    "                            <span>[[getChangeOverTime(item.change_over_time)]]</span>\n",
    "                        </span>\n",
    "                    </paper-material>\n",
    "                </div>\n",
    "            </template>\n",
    "        </iron-list>\n",
    "    </div>\n",
    "</template>"
   ]
  },
  {
   "cell_type": "code",
   "execution_count": null,
   "metadata": {
    "collapsed": false,
    "urth": {
     "dashboard": {
      "layout": {
       "col": 1,
       "height": 3,
       "row": 2,
       "width": 10
      }
     }
    }
   },
   "outputs": [],
   "source": [
    "%%html\n",
    "<template is=\"urth-core-bind\" channel=\"meetups\">\n",
    "    <style>\n",
    "        .topics-desc {\n",
    "            font-size: larger;\n",
    "        }\n",
    "        .topics-desc span {\n",
    "            font-style: italic;\n",
    "        }\n",
    "    </style>\n",
    "    <div class=\"topics-desc\">\n",
    "       Showing Upcoming Meetups on <span>[[upcoming_label]]</span> tag. Meetup candidates are generated using the following topic filters: <span>[[cand_topics_label]]</span>\n",
    "    </div>\n",
    "</template>"
   ]
  },
  {
   "cell_type": "markdown",
   "metadata": {
    "urth": {
     "dashboard": {
      "hidden": true
     }
    }
   },
   "source": [
    "### Total RSVPs Plot"
   ]
  },
  {
   "cell_type": "code",
   "execution_count": null,
   "metadata": {
    "collapsed": false,
    "urth": {
     "dashboard": {
      "hidden": true
     }
    }
   },
   "outputs": [],
   "source": [
    "def plot_total_rsvps(list):\n",
    "    '''\n",
    "    Create a stacked plot where the total is the number of RSVPs over a period of time,\n",
    "    and the top layer are \"converted\" RSVPs.\n",
    "    '''\n",
    "    X = [i[0] for i in list]\n",
    "    Y = [[i[1] - i[2] for i in list],  [i[2] for i in list]]\n",
    "\n",
    "    fig, ax = plt.subplots(1,1,figsize=(10,7))\n",
    "    ax.stackplot(X, *Y, baseline='zero', colors=['#2fa6e4','#82d1f5'])\n",
    "    ax.set_title('Total RSVPs for Upcoming Meetups')\n",
    "    fig.tight_layout()\n",
    "    plt.close()\n",
    "    return fig"
   ]
  },
  {
   "cell_type": "code",
   "execution_count": null,
   "metadata": {
    "collapsed": false,
    "urth": {
     "dashboard": {
      "layout": {
       "col": 0,
       "height": 14,
       "row": 23,
       "width": 6
      }
     }
    }
   },
   "outputs": [],
   "source": [
    "%%html\n",
    "<template is=\"urth-core-bind\" channel=\"plots\">\n",
    "    <img src={{total_rsvp_plot}}>\n",
    "</template>"
   ]
  },
  {
   "cell_type": "markdown",
   "metadata": {
    "urth": {
     "dashboard": {
      "hidden": true
     }
    }
   },
   "source": [
    "#### Initial call to update Upcoming Meetups list\n",
    "We have to do this after widgets (Meetups list, RSVPs plot) have been defined, since widgets cannot pull existing data off of channel. See [issue 35](https://github.com/jupyter-incubator/declarativewidgets/issues/35) for more info."
   ]
  },
  {
   "cell_type": "code",
   "execution_count": null,
   "metadata": {
    "collapsed": false,
    "scrolled": false,
    "urth": {
     "dashboard": {
      "hidden": true
     }
    }
   },
   "outputs": [],
   "source": [
    "refresh_meetups_list()\n",
    "channel('meetups').set('change_label', MU_CHANGE_LABEL)\n",
    "channel('meetups').set('upcoming_label', PROD_TOPIC)\n",
    "channel('meetups').set('cand_topics_label', ', '.join(RELEVANT_TOPICS))"
   ]
  },
  {
   "cell_type": "markdown",
   "metadata": {
    "urth": {
     "dashboard": {
      "hidden": true
     }
    }
   },
   "source": [
    "###Candidates List"
   ]
  },
  {
   "cell_type": "code",
   "execution_count": null,
   "metadata": {
    "collapsed": false,
    "urth": {
     "dashboard": {
      "layout": {
       "col": 6,
       "height": 32,
       "row": 5,
       "width": 6
      }
     }
    }
   },
   "outputs": [],
   "source": [
    "%%html\n",
    "<dom-module id=\"dynamic-list\">\n",
    "    <template>\n",
    "        <style>\n",
    "            :host .header {\n",
    "                background-color: #305b81;\n",
    "                color: white;\n",
    "                padding: 10px;\n",
    "            }\n",
    "                \n",
    "            :host .controls {\n",
    "                display: flex;\n",
    "                justify-content: space-between;\n",
    "            }\n",
    "                \n",
    "            :host iron-list {\n",
    "                height: 850px;\n",
    "            }\n",
    "                \n",
    "            :host .count {\n",
    "                font-size: smaller;\n",
    "                text-transform: uppercase;\n",
    "            }                \n",
    "            :host .count .new-items {\n",
    "                margin-left: 1em;\n",
    "                color: white;\n",
    "            }\n",
    "                \n",
    "            :host paper-toggle-button {\n",
    "                --paper-toggle-button-unchecked-button-color: darkgray;\n",
    "                --default-primary-color: white;\n",
    "            }\n",
    "                \n",
    "            :host paper-toggle-button:hover {\n",
    "                cursor: pointer;\n",
    "            }\n",
    "            \n",
    "            .member-card {\n",
    "                display: flex;\n",
    "                flex-flow: column wrap;\n",
    "                align-content: flex-start;\n",
    "                height: 50px;\n",
    "                margin: 10px 10px 0 10px;\n",
    "            }\n",
    "            .member-card img {\n",
    "                width: 50px;\n",
    "                height: 50px;\n",
    "                flex: 100%;\n",
    "                margin-right: 10px;\n",
    "            }\n",
    "            .member-card .member-name {\n",
    "                font-size: larger;\n",
    "                line-height: 25px;\n",
    "            }\n",
    "            .member-card .member-name,\n",
    "            .member-card .cmu {\n",
    "                flex: 50%;\n",
    "                white-space: nowrap;\n",
    "                overflow: hidden;\n",
    "                text-overflow: ellipsis;\n",
    "                width: calc(100% - 70px);\n",
    "            }\n",
    "            .member-card a {\n",
    "                color: #305b81;\n",
    "                text-decoration: none;\n",
    "            }\n",
    "            .member-card a:hover {\n",
    "                text-decoration: underline;\n",
    "            }\n",
    "            .member-card .contact-button {\n",
    "                text-transform: uppercase;\n",
    "                font-size: 0.6em;\n",
    "                line-height: 1em;\n",
    "                margin-left: 1em;\n",
    "                padding: 0.3em;\n",
    "                border-radius: 0.2em;\n",
    "                background-color: #305b81;\n",
    "                color: white;\n",
    "            }\n",
    "            .member-card:not(:hover) .contact-button {\n",
    "                display: none;\n",
    "            }\n",
    "                \n",
    "            :host .member-card[data-converted] {\n",
    "                background-color: rgba(130, 209, 245, 0.2);\n",
    "            }\n",
    "        </style>\n",
    "        \n",
    "        <paper-material class=\"header\">\n",
    "            <h2>[[heading]]</h2>\n",
    "            <div class=\"controls\">\n",
    "                <div class=\"count\">\n",
    "                    <span>[[getVisibleItemsCount(visibleItems.*)]]</span> items\n",
    "                    <template is=\"dom-if\" if=\"[[hasNewItems(newItems.*)]]\">\n",
    "                        <a class=\"new-items\" on-click=\"flush\" href=\"javascript:\"><span>[[getNewItemsCount(newItems.*)]]</span> updates available</a>\n",
    "                    </template>\n",
    "                </div>\n",
    "                <div class=\"toggle-btn-container\">\n",
    "                    <paper-toggle-button checked=\"{{liveUpdate}}\"></paper-toggle-button>\n",
    "                    <label id=\"stream-label\">Live Update</label>\n",
    "                </div>\n",
    "            </div>\n",
    "        </paper-material>\n",
    "        <template is=\"dom-if\" if=\"[[getVisibleItemsCount(visibleItems.*)]]\">\n",
    "            <iron-list items=\"[[visibleItems]]\" id=\"list\">\n",
    "                <template>\n",
    "                    <div>\n",
    "                        <paper-material class=\"member-card\" data-converted$=\"[[item.converted]]\">\n",
    "                            <img src=\"[[item.member.photo]]\">\n",
    "                            <a class=\"member-name\" href=\"[[getMemberUrl(item)]]\" target=\"_blank\">\n",
    "                                <span>[[item.member.member_name]]</span>\n",
    "                                <span class=\"contact-button\" data-contact-id$=\"[[item.member.member_id]]\" on-click=\"_onContactClick\">Contact</span>\n",
    "                            </a>\n",
    "                            <div class=\"cmu\"><span>[[toFixed(item.cmu_dist)]]</span> km from <a href=\"[[item.cmu.event_url]]\" target=\"_blank\">[[item.cmu.name]]</a></div>\n",
    "                        </paper-material>\n",
    "                    </div>\n",
    "                </template>\n",
    "            </iron-list>\n",
    "        </template>\n",
    "    </template>\n",
    "\n",
    "    <script>\n",
    "    (function () {\n",
    "        'use strict';\n",
    "\n",
    "        Polymer({\n",
    "            is: 'dynamic-list',\n",
    "\n",
    "            properties: {\n",
    "                heading: {\n",
    "                    type: String,\n",
    "                    value: 'Dynamic List'\n",
    "                },\n",
    "                items: {\n",
    "                    type: Array,\n",
    "                    value: function() { return []; }\n",
    "                },\n",
    "\n",
    "                visibleItems: {\n",
    "                    type: Array,\n",
    "                    value: function() { return []; }\n",
    "                },\n",
    "\n",
    "                newItems: {\n",
    "                    type: Array,\n",
    "                    value: function() { return []; }\n",
    "                },\n",
    "\n",
    "                liveUpdate: {\n",
    "                    type: Boolean,\n",
    "                    value: true,\n",
    "                    observer: '_liveUpdateChanged'\n",
    "                },\n",
    "\n",
    "                /**\n",
    "                 * If specified, ensures that visible items are unique\n",
    "                 * based on the given property name.\n",
    "                 */\n",
    "                idProp: {\n",
    "                    type: String,\n",
    "                    value: ''\n",
    "                }\n",
    "            },\n",
    "\n",
    "            _keys: null, // unique candidate member IDs\n",
    "\n",
    "            observers: [\n",
    "                '_itemsChanged(items.*)'\n",
    "            ],\n",
    "\n",
    "            created: function() {\n",
    "                this._keys = {};\n",
    "            },\n",
    "                    \n",
    "            attached: function() {\n",
    "                this._contactedFunc = document.getElementById('candidateContacted');\n",
    "            },\n",
    "\n",
    "            _itemsChanged: function(change) {\n",
    "                if (this.items.length === 0) {\n",
    "                    return;\n",
    "                }\n",
    "\n",
    "                if (change.path === 'items') {\n",
    "                    if (this.idProp) {\n",
    "                        for (var i = 0, len = this.items.length; i < len; i++) {\n",
    "                            var item = this.items[i];\n",
    "                            var id = item[this.idProp];\n",
    "                            if (!this._keys.hasOwnProperty(id)) {\n",
    "                                this.unshift('newItems', item);\n",
    "                                this._keys[id] = 1;\n",
    "                            }\n",
    "                        }\n",
    "                    } else {\n",
    "                        this.unshift.apply(this, ['newItems'].concat(this.items));\n",
    "                    }\n",
    "                } else if (change.path === 'items.splices') {\n",
    "                    // item was added/removed\n",
    "                    console.error('Not implemented');\n",
    "                } else {\n",
    "                    // individual item or its sub-props changed\n",
    "                    console.error('Not implemented');\n",
    "                }\n",
    "\n",
    "                if (this.liveUpdate) {\n",
    "                    this.flush(); // update main list with new items\n",
    "                }\n",
    "            },\n",
    "                    \n",
    "            _liveUpdateChanged: function(newVal, oldVal) {\n",
    "                console.log('live update:',this.liveUpdate);\n",
    "                if (newVal) {\n",
    "                    this.flush();\n",
    "                }\n",
    "            },\n",
    "                    \n",
    "            _onContactClick: function(e) {\n",
    "                if (e.model.get('item.converted')) {\n",
    "                    // already contacted this candidate; nothing to do here\n",
    "                    return;\n",
    "                }\n",
    "\n",
    "                // update global conversion list in python\n",
    "                var id = parseInt(e.target.getAttribute('data-contact-id'), 10);\n",
    "                this._contactedFunc.args = {id: id};\n",
    "                this._contactedFunc.invoke();\n",
    "\n",
    "                // update model for this element\n",
    "                e.model.set('item.converted', true);\n",
    "            },\n",
    "\n",
    "            getVisibleItemsCount: function(e) {\n",
    "                return this.visibleItems.length;\n",
    "            },\n",
    "\n",
    "            getNewItemsCount: function(e) {\n",
    "                return this.newItems.length;\n",
    "            },\n",
    "\n",
    "            getMemberUrl: function(item) {\n",
    "                return 'http://www.meetup.com/members/' + item.member.member_id + '/';\n",
    "            },\n",
    "              \n",
    "            // only show new items count if *not* streaming\n",
    "            hasNewItems: function(e) {\n",
    "                return this.getNewItemsCount() !== 0 && !this.liveUpdate;\n",
    "            },\n",
    "                    \n",
    "            toFixed: function(dist) {\n",
    "                return parseFloat(dist).toFixed(2);\n",
    "            },\n",
    "\n",
    "            // Copies new (hidden) items into the visible list.\n",
    "            flush: function(e) {\n",
    "                this.unshift.apply(this, ['visibleItems'].concat(this.newItems));\n",
    "                this.set('newItems', []);\n",
    "                if (e) {\n",
    "                    e.preventDefault();\n",
    "                }\n",
    "            },\n",
    "\n",
    "            // For demo purposes only.\n",
    "            // Simulate a mouse click on a random element in the list.\n",
    "            _simulateContactClick: function() {\n",
    "                if (!this.visibleItems.length) {\n",
    "                    return;\n",
    "                }\n",
    "                var el = this.$$('#list');\n",
    "                var visibleNodes = Array.prototype.filter.call(el.children, function(item) {\n",
    "                    return item.tagName !== 'TEMPLATE';\n",
    "                });\n",
    "                var idx = Math.floor(Math.random() * visibleNodes.length);\n",
    "                var node = visibleNodes[idx];\n",
    "                node.querySelector('.contact-button').dispatchEvent(new MouseEvent('click', {bubbles:true}));\n",
    "            }\n",
    "        });\n",
    "    })();\n",
    "    </script>\n",
    "</dom-module>\n",
    "\n",
    "<template is=\"urth-core-bind\" channel=\"candidates\">\n",
    "    <dynamic-list items=\"[[cand_list]]\" id-prop=\"id\" heading=\"Meetup Candidates\"></dynamic-list>\n",
    "</template>"
   ]
  },
  {
   "cell_type": "markdown",
   "metadata": {
    "urth": {
     "dashboard": {
      "hidden": true
     }
    }
   },
   "source": [
    "##Setup streaming"
   ]
  },
  {
   "cell_type": "code",
   "execution_count": null,
   "metadata": {
    "collapsed": true,
    "scrolled": false,
    "urth": {
     "dashboard": {
      "hidden": true
     }
    }
   },
   "outputs": [],
   "source": [
    "def create_streaming_context(checkpoint_dir, sample_rate):\n",
    "    '''\n",
    "    Creates a new SparkContext and SparkStreamingContext. Done in a function\n",
    "    to allow repeated start/stop of the streaming. Returns the streaming\n",
    "    context instance.\n",
    "    \n",
    "    :param checkpoint_dir: Directory to use to track Spark job state\n",
    "    :param sample_rate: Stream sampling rate in seconds\n",
    "    '''\n",
    "    # create a local SparkContext to start using as many CPUs as we can\n",
    "    sc = SparkContext('local[*]')\n",
    "    \n",
    "    # wrap it in a StreamingContext that collects from the stream\n",
    "    ssc = StreamingContext(sc, sample_rate)\n",
    "\n",
    "    # Setup a checkpoint directory to keep total counts over time.\n",
    "    ssc.checkpoint(os.path.join(checkpoint_dir, '.checkpoint'))\n",
    "    \n",
    "    return ssc"
   ]
  },
  {
   "cell_type": "code",
   "execution_count": null,
   "metadata": {
    "collapsed": true,
    "scrolled": false,
    "urth": {
     "dashboard": {
      "hidden": true
     }
    }
   },
   "outputs": [],
   "source": [
    "class FileRingReceiver(object):\n",
    "    '''\n",
    "    Hack around lack of custom DStream receivers in Python: \n",
    "    Create a ring buffer of UTF-8 text files on disk.\n",
    "    '''\n",
    "    def __init__(self, max_batches=10):\n",
    "        self.queue = tempfile.mkdtemp()\n",
    "        self.batch_count = 0\n",
    "        self.max_batches = max_batches\n",
    "        \n",
    "    def __del__(self):\n",
    "        self.destroy()\n",
    "        \n",
    "    def put(self, text):\n",
    "        # ignore sentinels\n",
    "        if text is None: return\n",
    "        with open(os.path.join(self.queue, str(self.batch_count)), 'w', encoding='utf-8') as f:\n",
    "            f.write(text)\n",
    "        if self.batch_count >= self.max_batches:\n",
    "            oldest = str(self.batch_count - self.max_batches)\n",
    "            os.remove(os.path.join(self.queue, str(oldest)))\n",
    "        self.batch_count += 1\n",
    "        \n",
    "    def destroy(self):\n",
    "        shutil.rmtree(self.queue, ignore_errors=True)"
   ]
  },
  {
   "cell_type": "code",
   "execution_count": null,
   "metadata": {
    "collapsed": true,
    "scrolled": false,
    "urth": {
     "dashboard": {
      "hidden": true
     }
    }
   },
   "outputs": [],
   "source": [
    "conn_future = None\n",
    "ssc = None\n",
    "receiver = None"
   ]
  },
  {
   "cell_type": "code",
   "execution_count": null,
   "metadata": {
    "collapsed": true,
    "scrolled": false,
    "urth": {
     "dashboard": {
      "hidden": true
     }
    }
   },
   "outputs": [],
   "source": [
    "def start_stream():\n",
    "    '''\n",
    "    Creates a websocket client that pumps events into a ring buffer queue. Creates\n",
    "    a SparkStreamContext that reads from the queue. Creates the events, topics, and\n",
    "    venues DStreams, setting the widget channel publishing functions to iterate over\n",
    "    RDDs in each. Starts the stream processing.\n",
    "    '''\n",
    "    global conn_future\n",
    "    global ssc\n",
    "    global receiver\n",
    "    \n",
    "    receiver = FileRingReceiver(max_batches=100)  \n",
    "    conn_future = websocket_connect('ws://stream.meetup.com/2/rsvps', on_message_callback=receiver.put)\n",
    "    ssc = create_streaming_context(receiver.queue, 5)\n",
    "    process_rsvps(ssc, receiver.queue)\n",
    "    ssc.start()\n",
    "    \n",
    "def shutdown_stream():\n",
    "    '''\n",
    "    Shuts down the websocket, stops the streaming context, and cleans up the file ring.\n",
    "    '''\n",
    "    global conn_future\n",
    "    global ssc\n",
    "    global receiver\n",
    "    \n",
    "    conn_future.result().close()\n",
    "    ssc.stop()\n",
    "    receiver.destroy()"
   ]
  },
  {
   "cell_type": "code",
   "execution_count": null,
   "metadata": {
    "collapsed": false,
    "scrolled": false,
    "urth": {
     "dashboard": {
      "layout": {
       "col": 6,
       "height": 2,
       "row": 0,
       "width": 6
      }
     }
    }
   },
   "outputs": [],
   "source": [
    "%%html\n",
    "<template is=\"urth-core-bind\">\n",
    "    <urth-core-function id=\"streamFunc\" ref=\"start_stream\"></urth-core-function>\n",
    "    <urth-core-function id=\"shutdownFunc\" ref=\"shutdown_stream\"></urth-core-function>\n",
    "</template>\n",
    "\n",
    "<style is=\"custom-style\">\n",
    "    paper-toggle-button {\n",
    "        --default-primary-color: green;\n",
    "    }\n",
    "    \n",
    "    paper-toggle-button:hover {\n",
    "        cursor: pointer;\n",
    "    }\n",
    "        \n",
    "    .toggle-btn-container {\n",
    "        margin: 1em 0;\n",
    "        text-align: right;\n",
    "    }\n",
    "    \n",
    "    #stream-label {\n",
    "        font-size: larger;\n",
    "        margin: 0;\n",
    "        padding: 0 0.5em;\n",
    "    }\n",
    "</style>\n",
    "\n",
    "<div class=\"toggle-btn-container\">\n",
    "    <paper-toggle-button id=\"stream-btn\"></paper-toggle-button>\n",
    "    <label id=\"stream-label\">Stream</label>\n",
    "</div>\n",
    "\n",
    "<script>\n",
    "    $('#stream-btn').on('change', function() {\n",
    "        if ($(this).attr('checked')) {\n",
    "            // start streaming\n",
    "            console.warn('Starting Spark Streaming');\n",
    "            $('#streamFunc').get(0).invoke();\n",
    "        } else {\n",
    "            // stop streaming\n",
    "            console.warn('Stopping Spark Streaming');\n",
    "            $('#shutdownFunc').get(0).invoke();\n",
    "        }\n",
    "    });\n",
    "</script>"
   ]
  },
  {
   "cell_type": "markdown",
   "metadata": {
    "urth": {
     "dashboard": {
      "hidden": true
     }
    }
   },
   "source": [
    "##Demo Mode"
   ]
  },
  {
   "cell_type": "markdown",
   "metadata": {
    "urth": {
     "dashboard": {
      "hidden": true
     }
    }
   },
   "source": [
    "In order to run a standalone demo, the following code will (if `DEMO` is set to `True`) periodically simulate a mouse click on the contact button for a random candidate in the list. This will make it so that the rest of the code considers this as a \"conversion\". Over time, as \"converted\" members also sign up for one of the upcoming events in our list, the plot will show two different colors, the top one signifying the number of \"converted\" candidates."
   ]
  },
  {
   "cell_type": "code",
   "execution_count": null,
   "metadata": {
    "collapsed": false,
    "urth": {
     "dashboard": {
      "hidden": true
     }
    }
   },
   "outputs": [],
   "source": [
    "%%html\n",
    "<template is=\"urth-core-bind\" channel=\"demo\" id=\"demo-tmpl\">\n",
    "    <script>\n",
    "        var startDemoMode = function(e) {\n",
    "            if (e.detail.channel !== 'demo' || e.detail.key !== 'on') {\n",
    "                return;\n",
    "            }\n",
    "            console.log('STARTING DEMO MODE');\n",
    "            setInterval(function() {\n",
    "                var list = document.querySelector('dynamic-list');\n",
    "                if (list) {\n",
    "                    list._simulateContactClick();\n",
    "                }\n",
    "            }, 60000);\n",
    "            demoTmpl.removeEventListener('channelSetItem', startDemoMode);\n",
    "        }\n",
    "\n",
    "        var demoTmpl = document.getElementById('demo-tmpl');\n",
    "        demoTmpl.register(demoTmpl, '*');\n",
    "        demoTmpl.addEventListener('channelSetItem', startDemoMode);\n",
    "    </script>\n",
    "</template>"
   ]
  },
  {
   "cell_type": "code",
   "execution_count": null,
   "metadata": {
    "collapsed": false,
    "urth": {
     "dashboard": {
      "hidden": true
     }
    }
   },
   "outputs": [],
   "source": [
    "if DEMO:\n",
    "    channel('demo').set('on', 1)"
   ]
  }
 ],
 "metadata": {
  "kernelspec": {
   "display_name": "Python 3",
   "language": "python",
   "name": "python3"
  },
  "language_info": {
   "codemirror_mode": {
    "name": "ipython",
    "version": 3
   },
   "file_extension": ".py",
   "mimetype": "text/x-python",
   "name": "python",
   "nbconvert_exporter": "python",
   "pygments_lexer": "ipython3",
   "version": "3.4.3"
  },
  "urth": {
   "dashboard": {
    "cellMargin": 10,
    "defaultCellHeight": 20,
    "maxColumns": 12
   }
  }
 },
 "nbformat": 4,
 "nbformat_minor": 0
}
